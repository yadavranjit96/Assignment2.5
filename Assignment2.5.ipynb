{
 "cells": [
  {
   "cell_type": "code",
   "execution_count": 1,
   "metadata": {},
   "outputs": [
    {
     "name": "stdout",
     "output_type": "stream",
     "text": [
      "[5, 2, 7, 4]\n"
     ]
    }
   ],
   "source": [
    "def word_length(words_list):\n",
    "    word_len = []\n",
    "    for n in words_list:\n",
    "        word_len.append(len(n))\n",
    "    return word_len\n",
    "print(word_length([\"Virat\", \"is\", \"world's\", \"best\"]))"
   ]
  },
  {
   "cell_type": "code",
   "execution_count": 2,
   "metadata": {},
   "outputs": [
    {
     "name": "stdout",
     "output_type": "stream",
     "text": [
      "Enter the string to check\n",
      "Z\n",
      "The enterted character is not Vowel\n"
     ]
    }
   ],
   "source": [
    "def vowelChecker (inputChar):\n",
    "    if (inputChar == \"a\" or inputChar == \"A\" or\n",
    "        inputChar == \"e\" or inputChar == \"E\" or\n",
    "        inputChar == \"i\" or inputChar == \"I\" or\n",
    "        inputChar == \"o\" or inputChar == \"O\" or\n",
    "        inputChar == \"u\" or inputChar == \"U\"):\n",
    "        return \"True\"\n",
    "    else:\n",
    "        return \"False\"\n",
    " \n",
    "print (\"Enter the string to check\")\n",
    "inputChar = input()\n",
    " \n",
    "if vowelChecker(inputChar) == \"True\":\n",
    " print(\"The enterted character is Vowel\")\n",
    "else:\n",
    " print(\"The enterted character is not Vowel\")"
   ]
  }
 ],
 "metadata": {
  "kernelspec": {
   "display_name": "Python 3",
   "language": "python",
   "name": "python3"
  },
  "language_info": {
   "codemirror_mode": {
    "name": "ipython",
    "version": 3
   },
   "file_extension": ".py",
   "mimetype": "text/x-python",
   "name": "python",
   "nbconvert_exporter": "python",
   "pygments_lexer": "ipython3",
   "version": "3.6.4"
  }
 },
 "nbformat": 4,
 "nbformat_minor": 2
}
